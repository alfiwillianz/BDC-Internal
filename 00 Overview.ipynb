{
 "cells": [
  {
   "cell_type": "markdown",
   "id": "4ac68e82",
   "metadata": {},
   "source": [
    "# IELTS Essay Regression\n",
    "\n",
    "this notebook is our submission for the Satria Data BDC 2025 Internal Selection"
   ]
  },
  {
   "cell_type": "markdown",
   "id": "8328fd7e",
   "metadata": {},
   "source": [
    "## Project Overview\n",
    "\n",
    "### Problem Statement\n",
    "This project focuses on developing a regression model to predict IELTS essay scores based on various textual features and linguistic characteristics. The goal is to create an automated scoring system that can accurately evaluate essay quality across the four key IELTS assessment criteria.\n",
    "\n",
    "### Objectives\n",
    "- Build robust regression models to predict IELTS essay scores for each assessment criterion\n",
    "- Analyze key features that contribute to scoring in each criterion\n",
    "- Implement feature engineering techniques for text data\n",
    "- Evaluate model performance using appropriate metrics\n",
    "- Provide insights into what makes a high-scoring IELTS essay for each criterion\n",
    "\n",
    "### Dataset Information\n",
    "- **Source**: IELTS essay dataset with scored essays\n",
    "- **Features**: QnA (Question and Answer/Essay text only)\n",
    "- **Targets**: Four IELTS scoring criteria:\n",
    "  - `task_achievement`: How well the essay addresses the task requirements\n",
    "  - `coherence_and_cohesion`: Logical organization and flow of ideas\n",
    "  - `lexical_resource`: Vocabulary range, accuracy, and appropriateness\n",
    "  - `grammatical_range`: Grammar accuracy, complexity, and variety\n",
    "- **Score Range**: Typically 0-10 for each criterion\n",
    "\n",
    "### Methodology\n",
    "1. **Data Preprocessing**\n",
    "   - Text cleaning and normalization of QnA data\n",
    "\n",
    "2. **Feature Engineering from QnA Text**\n",
    "   - Text-based features (word count, sentence length, vocabulary diversity)\n",
    "   - Task-specific features (topic relevance, argument structure)\n",
    "   - Coherence features (transition words, paragraph structure)\n",
    "   - Lexical features (vocabulary complexity, word frequency analysis)\n",
    "   - Grammar features (sentence complexity, error patterns)\n",
    "   - Qwen3-8b Embeddings to capture semantic meaning and context\n",
    "\n",
    "3. **Model Development**\n",
    "   - Multi-target regression approach for four criteria (Catboost with MultiRMSE loss)\n",
    "     - Using Catboost's MultiRMSEWithMissingValues loss function to handle multi-target regression effectively and accommodate missing values on targets\n",
    "   - Model selection and hyperparameter tuning\n",
    "\n",
    "4. **Evaluation**\n",
    "   - Cross-validation for each target\n",
    "     - Later on the competition, we use anchors from our previous submission since the crossvalidation is too far from the actual leaderboard metric\n",
    "   - MSE as main performance metric\n",
    "\n",
    "### Expected Outcomes\n",
    "- Accurate prediction models for each IELTS scoring criterion\n",
    "- Identification of key factors affecting each assessment area\n",
    "- Insights for targeted essay improvement recommendations\n",
    "- Comprehensive analysis of inter-criterion relationships\n",
    "- Visualization of results and feature importance per criterion\n",
    "\n",
    "### Team Information\n",
    "**Satria Data BDC 2025 Internal Selection Submission**\n",
    "\n",
    "---\n",
    "\n",
    "*This overview will be updated as the project progresses with specific results and findings.*"
   ]
  }
 ],
 "metadata": {
  "language_info": {
   "name": "python"
  }
 },
 "nbformat": 4,
 "nbformat_minor": 5
}
